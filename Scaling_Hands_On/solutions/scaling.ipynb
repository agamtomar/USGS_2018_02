{
 "cells": [
  {
   "cell_type": "code",
   "execution_count": null,
   "metadata": {
    "collapsed": true
   },
   "outputs": [],
   "source": []
  },
  {
   "cell_type": "code",
   "execution_count": 13,
   "metadata": {},
   "outputs": [
    {
     "ename": "IndentationError",
     "evalue": "expected an indented block (<ipython-input-13-098d0fc2f02b>, line 81)",
     "output_type": "error",
     "traceback": [
      "\u001b[0;36m  File \u001b[0;32m\"<ipython-input-13-098d0fc2f02b>\"\u001b[0;36m, line \u001b[0;32m81\u001b[0m\n\u001b[0;31m    else:\u001b[0m\n\u001b[0m       ^\u001b[0m\n\u001b[0;31mIndentationError\u001b[0m\u001b[0;31m:\u001b[0m expected an indented block\n"
     ]
    }
   ],
   "source": [
    "import numpy\n",
    "import matplotlib.pyplot as plt\n",
    "import os\n",
    "path='/home/feathern/USGS_2018_02/Scaling_Hands_On/solutions/scaling_data'\n",
    "savefig=False # set to true to save plot as a png\n",
    "strong_sizes = [48, 192, 768]\n",
    "weak_sizes = [4, 64, 256]\n",
    "colors = ['blue', 'green', 'orange']\n",
    "\n",
    "sizes = strong_sizes\n",
    "nsizes = len(sizes)\n",
    "\n",
    "\n",
    "fig, ax = plt.subplots(ncols=2,nrows=2, figsize=(15,8))\n",
    "limstrong = [1e-4,1e-1]\n",
    "limweak = [1e-4,1]\n",
    "nps = numpy.zeros(nsizes,dtype='float64')\n",
    "stimes = numpy.zeros(nsizes,dtype='float64')\n",
    "for i in range(nsizes):\n",
    "    lstring = str(sizes[i])+' Y-points'\n",
    "    file = path+'/strong_nn_'+str(sizes[i])\n",
    "    print(file)\n",
    "    vars = numpy.loadtxt(file)\n",
    "    np = vars[:,0]\n",
    "    time = vars[:,1]\n",
    "    \n",
    "    # Create the strong scaling plots\n",
    "    ax[0,0].plot(np, time, 'o', color=colors[i], label=lstring)\n",
    "    ax[0,0].set_yscale('log')\n",
    "    ax[0,0].set_xscale('log')\n",
    "    ax[0,0].set_title('Strong Scaling Times') \n",
    "    ax[0,0].set_ylim(limstrong)\n",
    "    ax[0,0].set_xlabel('# of Cores')\n",
    "    ax[0,0].set_ylabel('Walltime (seconds)')\n",
    "\n",
    "    #Plot an ideal scaling curve for reference\n",
    "    ideal = np[0]/np*time[0]\n",
    "    ax[0,0].plot(np,ideal,'-', color=colors[i])    \n",
    "    \n",
    "    ax[0,0].legend()\n",
    "    \n",
    "    #Next, create the efficiency plots\n",
    "    eff = ideal/time\n",
    "    ax[1,0].plot(np,eff, 'o', color=colors[i], label=lstring)\n",
    "    ax[1,0].set_title('Strong Scaling Efficiency')\n",
    "    ax[1,0].set_xlabel('# of Cores')\n",
    "    ax[1,0].set_ylabel('Efficiency')\n",
    "    ax[1,0].legend()\n",
    "    \n",
    "\n",
    "sizes = weak_sizes\n",
    "nsizes = len(sizes)\n",
    "for i in range(nsizes):\n",
    "    lstring = str(sizes[i])+' Y-points per core'\n",
    "    file = path+'/weak_nn_'+str(sizes[i])\n",
    "    vars = numpy.loadtxt(file)\n",
    "    np = vars[:,0]\n",
    "    time = vars[:,1]\n",
    "    ax[0,1].plot(np, time, 'o', color=colors[i],label=lstring)\n",
    "    ax[0,1].set_yscale('log')\n",
    "    ax[0,1].set_xscale('log')\n",
    "    ax[0,1].set_title('Weak Scaling Times')     \n",
    "    ax[0,1].set_ylim(limweak)\n",
    "    ax[0,1].set_xlabel('# of Cores')\n",
    "    ax[0,1].set_ylabel('Walltime (seconds)')\n",
    "    ideal = np*0+time[0]\n",
    "    ax[0,1].plot(np,ideal,'-') \n",
    "\n",
    "    ax[0,1].legend()\n",
    "    #Now, the efficiency plots\n",
    "    eff = ideal/time\n",
    "    ax[1,1].plot(np,eff, 'o', color=colors[i], label=lstring)\n",
    "    ax[1,1].set_title('Weak Scaling Efficiency')\n",
    "    ax[1,1].set_xlabel('# of Cores')\n",
    "    ax[1,1].set_ylabel('Efficiency')\n",
    "    ax[1,1].legend()\n",
    "    \n",
    "plt.tight_layout()\n",
    "if (savefig):\n",
    "    \n",
    "else:\n",
    "    plt.show()"
   ]
  },
  {
   "cell_type": "code",
   "execution_count": null,
   "metadata": {
    "collapsed": true
   },
   "outputs": [],
   "source": []
  },
  {
   "cell_type": "code",
   "execution_count": null,
   "metadata": {
    "collapsed": true
   },
   "outputs": [],
   "source": []
  },
  {
   "cell_type": "code",
   "execution_count": 2,
   "metadata": {},
   "outputs": [
    {
     "data": {
      "text/plain": [
       "192"
      ]
     },
     "execution_count": 2,
     "metadata": {},
     "output_type": "execute_result"
    }
   ],
   "source": [
    "24*8\n"
   ]
  },
  {
   "cell_type": "code",
   "execution_count": 3,
   "metadata": {},
   "outputs": [
    {
     "data": {
      "text/plain": [
       "144"
      ]
     },
     "execution_count": 3,
     "metadata": {},
     "output_type": "execute_result"
    }
   ],
   "source": [
    "24*6"
   ]
  },
  {
   "cell_type": "code",
   "execution_count": null,
   "metadata": {
    "collapsed": true
   },
   "outputs": [],
   "source": []
  }
 ],
 "metadata": {
  "kernelspec": {
   "display_name": "Python 3",
   "language": "python",
   "name": "python3"
  },
  "language_info": {
   "codemirror_mode": {
    "name": "ipython",
    "version": 3
   },
   "file_extension": ".py",
   "mimetype": "text/x-python",
   "name": "python",
   "nbconvert_exporter": "python",
   "pygments_lexer": "ipython3",
   "version": "3.6.2"
  }
 },
 "nbformat": 4,
 "nbformat_minor": 2
}
